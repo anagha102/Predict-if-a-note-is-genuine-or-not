{
  "nbformat": 4,
  "nbformat_minor": 0,
  "metadata": {
    "colab": {
      "name": "Predict if a note is genuine or not.ipynb",
      "provenance": [],
      "include_colab_link": true
    },
    "kernelspec": {
      "name": "python3",
      "display_name": "Python 3"
    },
    "accelerator": "GPU"
  },
  "cells": [
    {
      "cell_type": "markdown",
      "metadata": {
        "id": "view-in-github",
        "colab_type": "text"
      },
      "source": [
        "<a href=\"https://colab.research.google.com/github/anagha102/Predict-if-a-note-is-genuine-or-not/blob/main/Predict_if_a_note_is_genuine_or_not.ipynb\" target=\"_parent\"><img src=\"https://colab.research.google.com/assets/colab-badge.svg\" alt=\"Open In Colab\"/></a>"
      ]
    },
    {
      "cell_type": "markdown",
      "metadata": {
        "id": "KBwY8WBr9zCV"
      },
      "source": [
        "# **Introduction**\n",
        "Banknotes are one of the most important assets of a country. Some miscreants introduce fake notes which bear a resemblance to original note to create discrepancies of the money in the financial market. It is difficult for humans to tell true and fake banknotes apart especially because they have a lot of similar features. \n",
        "Therefore in this notebook, we'll be performing Binary Classification to predict if a note is genuine or not.\n",
        "\n",
        "There are 2 classes:\n",
        "\n",
        "Note is genuine (class=1)\n",
        "Note is not genuine (class=0)"
      ]
    },
    {
      "cell_type": "markdown",
      "metadata": {
        "id": "OnQwMGLd9yZ8"
      },
      "source": [
        "# **Agenda:**\n",
        "1. About the Dataset\n",
        "2. Objective\n",
        "3. Loading Libraries\n",
        "4. Loading Data\n",
        "5. Separating Input and target Variable\n",
        "6. Split The Data into Train and Test Set\n",
        "7. Train the model :\n",
        "\n",
        "    A. Define the model.\n",
        "    B. Compile the model.\n",
        "    C. Fit the model.\n",
        "    D. Evaluate the model\n",
        "    E. Hyperparameter Tunning (if required)\n",
        "8. Conclusion"
      ]
    },
    {
      "cell_type": "markdown",
      "metadata": {
        "id": "xm3Urmyi9yLB"
      },
      "source": [
        "## **About the Dataset:**\n",
        "This dataset contains 1096 observations and 5 attributes. Target variable refers to attribute 'Class'.\n",
        "\n",
        "VWTI: Variance of Wavelet Transformed Image\n",
        "\n",
        "SWTI: Skewness of Wavelet Transformed Image\n",
        "\n",
        "CWTI: Curtosis of Wavelet Transformed Image\n",
        "\n",
        "EI: Entropy of Image\n",
        "\n",
        "Class: Class (1: genuine, 0: forged) ]"
      ]
    },
    {
      "cell_type": "markdown",
      "metadata": {
        "id": "fSqg6HvfDWcb"
      },
      "source": [
        "## **Objective:**\n",
        "To predict if note is genuine or not. "
      ]
    },
    {
      "cell_type": "markdown",
      "metadata": {
        "id": "BDBErQD2EX_V"
      },
      "source": [
        "## **Loading Libraries**"
      ]
    },
    {
      "cell_type": "code",
      "metadata": {
        "id": "CMvtmQ3572wl"
      },
      "source": [
        "import pandas as pd\n",
        "import numpy as np\n",
        "import matplotlib.pyplot as plt"
      ],
      "execution_count": null,
      "outputs": []
    },
    {
      "cell_type": "markdown",
      "metadata": {
        "id": "ftzrSib4EfOs"
      },
      "source": [
        "## **Loading Data**"
      ]
    },
    {
      "cell_type": "code",
      "metadata": {
        "id": "nLOPrbTp75i7"
      },
      "source": [
        "bank_note_data = pd.read_csv(\"https://raw.githubusercontent.com/dphi-official/Datasets/master/bank_note_data/training_set_label.csv\" )"
      ],
      "execution_count": null,
      "outputs": []
    },
    {
      "cell_type": "code",
      "metadata": {
        "id": "q04OHSPF8BgH",
        "colab": {
          "base_uri": "https://localhost:8080/",
          "height": 194
        },
        "outputId": "6332fc7d-9a15-4564-beac-934857641f0f"
      },
      "source": [
        "bank_note_data.head()"
      ],
      "execution_count": null,
      "outputs": [
        {
          "output_type": "execute_result",
          "data": {
            "text/html": [
              "<div>\n",
              "<style scoped>\n",
              "    .dataframe tbody tr th:only-of-type {\n",
              "        vertical-align: middle;\n",
              "    }\n",
              "\n",
              "    .dataframe tbody tr th {\n",
              "        vertical-align: top;\n",
              "    }\n",
              "\n",
              "    .dataframe thead th {\n",
              "        text-align: right;\n",
              "    }\n",
              "</style>\n",
              "<table border=\"1\" class=\"dataframe\">\n",
              "  <thead>\n",
              "    <tr style=\"text-align: right;\">\n",
              "      <th></th>\n",
              "      <th>VWTI</th>\n",
              "      <th>SWTI</th>\n",
              "      <th>CWTI</th>\n",
              "      <th>EI</th>\n",
              "      <th>Class</th>\n",
              "    </tr>\n",
              "  </thead>\n",
              "  <tbody>\n",
              "    <tr>\n",
              "      <th>0</th>\n",
              "      <td>2.2634</td>\n",
              "      <td>-4.4862</td>\n",
              "      <td>3.6558</td>\n",
              "      <td>-0.612510</td>\n",
              "      <td>0</td>\n",
              "    </tr>\n",
              "    <tr>\n",
              "      <th>1</th>\n",
              "      <td>3.2718</td>\n",
              "      <td>1.7837</td>\n",
              "      <td>2.1161</td>\n",
              "      <td>0.613340</td>\n",
              "      <td>0</td>\n",
              "    </tr>\n",
              "    <tr>\n",
              "      <th>2</th>\n",
              "      <td>-3.9411</td>\n",
              "      <td>-12.8792</td>\n",
              "      <td>13.0597</td>\n",
              "      <td>-3.312500</td>\n",
              "      <td>1</td>\n",
              "    </tr>\n",
              "    <tr>\n",
              "      <th>3</th>\n",
              "      <td>0.5195</td>\n",
              "      <td>-3.2633</td>\n",
              "      <td>3.0895</td>\n",
              "      <td>-0.984900</td>\n",
              "      <td>0</td>\n",
              "    </tr>\n",
              "    <tr>\n",
              "      <th>4</th>\n",
              "      <td>2.5698</td>\n",
              "      <td>-4.4076</td>\n",
              "      <td>5.9856</td>\n",
              "      <td>0.078002</td>\n",
              "      <td>0</td>\n",
              "    </tr>\n",
              "  </tbody>\n",
              "</table>\n",
              "</div>"
            ],
            "text/plain": [
              "     VWTI     SWTI     CWTI        EI  Class\n",
              "0  2.2634  -4.4862   3.6558 -0.612510      0\n",
              "1  3.2718   1.7837   2.1161  0.613340      0\n",
              "2 -3.9411 -12.8792  13.0597 -3.312500      1\n",
              "3  0.5195  -3.2633   3.0895 -0.984900      0\n",
              "4  2.5698  -4.4076   5.9856  0.078002      0"
            ]
          },
          "metadata": {
            "tags": []
          },
          "execution_count": 31
        }
      ]
    },
    {
      "cell_type": "markdown",
      "metadata": {
        "id": "rG-4cPRrGgHi"
      },
      "source": [
        "## **Separating Input and Target Variable:**\n",
        "Our objective is to detect the note is genuine or not. Thus, our target variable will be the column that indicates whether note is genuine or not."
      ]
    },
    {
      "cell_type": "code",
      "metadata": {
        "id": "Ggb80x_5KCyj"
      },
      "source": [
        "X = bank_note_data.drop('Class', axis=1) #Input variables\n",
        "y = bank_note_data['Class']  # Target variable"
      ],
      "execution_count": null,
      "outputs": []
    },
    {
      "cell_type": "markdown",
      "metadata": {
        "id": "_rYzJoTDKFA6"
      },
      "source": [
        "\n",
        "## **Splitting into Train and Test Sets:**"
      ]
    },
    {
      "cell_type": "code",
      "metadata": {
        "id": "5ZZsFAFz8FJ9"
      },
      "source": [
        "from sklearn.model_selection import train_test_split\n",
        "X_train, X_test, y_train, y_test = train_test_split(X, y, test_size=0.2, random_state=42)"
      ],
      "execution_count": null,
      "outputs": []
    },
    {
      "cell_type": "markdown",
      "metadata": {
        "id": "UXBsUhunLiGL"
      },
      "source": [
        "## **Train the Model:**"
      ]
    },
    {
      "cell_type": "code",
      "metadata": {
        "id": "sgg5nbyM8Kno"
      },
      "source": [
        "# Imports\n",
        "import tensorflow as tf  # Importing the TensorFlow Library\n",
        "from tensorflow import keras  # Import Keras from TensorFlow\n",
        "\n",
        "from tensorflow.keras import Sequential \n",
        "from tensorflow.keras import layers\n",
        "from tensorflow.keras.layers import Dense"
      ],
      "execution_count": null,
      "outputs": []
    },
    {
      "cell_type": "markdown",
      "metadata": {
        "id": "zQUyEbhjMiE1"
      },
      "source": [
        "### **A. Defining model:**\n",
        "Models can be defined either with the Sequential API or the Functional API. Here we will define the model with Sequential API."
      ]
    },
    {
      "cell_type": "code",
      "metadata": {
        "id": "elsp2ZBN8N7e"
      },
      "source": [
        "# Building the model\n",
        "model = Sequential()\n",
        "model.add(Dense(32, activation='relu', input_shape=(X_train.shape[1],)))   \n",
        "model.add(Dense(16, activation='relu'))\n",
        "model.add(Dense(8, activation='relu'))\n",
        "model.add(Dense(1, activation='sigmoid'))  "
      ],
      "execution_count": null,
      "outputs": []
    },
    {
      "cell_type": "markdown",
      "metadata": {
        "id": "vpqN4EzOPutc"
      },
      "source": [
        "### **B. Compile the Model:**"
      ]
    },
    {
      "cell_type": "code",
      "metadata": {
        "id": "hYv8BG_z8ZqA"
      },
      "source": [
        "from tensorflow.keras.optimizers import RMSprop\n",
        "optimizer = RMSprop(0.001)  # Here, we have set our learning rate as 0.001\n",
        "model.compile(loss='binary_crossentropy', optimizer= optimizer , metrics=['accuracy'])"
      ],
      "execution_count": null,
      "outputs": []
    },
    {
      "cell_type": "code",
      "metadata": {
        "colab": {
          "base_uri": "https://localhost:8080/"
        },
        "id": "eNLxOX7QQAwG",
        "outputId": "986da95b-5f81-4751-aa93-3d89de96bfd0"
      },
      "source": [
        "model.summary()"
      ],
      "execution_count": null,
      "outputs": [
        {
          "output_type": "stream",
          "text": [
            "Model: \"sequential_1\"\n",
            "_________________________________________________________________\n",
            "Layer (type)                 Output Shape              Param #   \n",
            "=================================================================\n",
            "dense_4 (Dense)              (None, 32)                160       \n",
            "_________________________________________________________________\n",
            "dense_5 (Dense)              (None, 16)                528       \n",
            "_________________________________________________________________\n",
            "dense_6 (Dense)              (None, 8)                 136       \n",
            "_________________________________________________________________\n",
            "dense_7 (Dense)              (None, 1)                 9         \n",
            "=================================================================\n",
            "Total params: 833\n",
            "Trainable params: 833\n",
            "Non-trainable params: 0\n",
            "_________________________________________________________________\n"
          ],
          "name": "stdout"
        }
      ]
    },
    {
      "cell_type": "code",
      "metadata": {
        "colab": {
          "base_uri": "https://localhost:8080/",
          "height": 466
        },
        "id": "XdKIgLslQPus",
        "outputId": "c61f4725-28c0-4204-80a5-aa87ac6641c4"
      },
      "source": [
        "# plotting the model\n",
        "from tensorflow.keras.utils import plot_model\n",
        "plot_model(model)"
      ],
      "execution_count": null,
      "outputs": [
        {
          "output_type": "execute_result",
          "data": {
            "image/png": "[encoded data removed]",
            "text/plain": [
              "<IPython.core.display.Image object>"
            ]
          },
          "metadata": {
            "tags": []
          },
          "execution_count": 38
        }
      ]
    },
    {
      "cell_type": "markdown",
      "metadata": {
        "id": "jvDi9TYbP6ck"
      },
      "source": [
        "### **C. Fit the Model**"
      ]
    },
    {
      "cell_type": "code",
      "metadata": {
        "id": "qqKsyr098daD",
        "colab": {
          "base_uri": "https://localhost:8080/"
        },
        "outputId": "7225206f-682e-4644-9f44-f52a16ebe8ae"
      },
      "source": [
        "history = model.fit(X_train, y_train,validation_split=0.2,epochs=100, verbose=1)"
      ],
      "execution_count": null,
      "outputs": [
        {
          "output_type": "stream",
          "text": [
            "Epoch 1/100\n",
            "22/22 [==============================] - 0s 9ms/step - loss: 0.4551 - accuracy: 0.8286 - val_loss: 0.3379 - val_accuracy: 0.8920\n",
            "Epoch 2/100\n",
            "22/22 [==============================] - 0s 4ms/step - loss: 0.2983 - accuracy: 0.9286 - val_loss: 0.2232 - val_accuracy: 0.9659\n",
            "Epoch 3/100\n",
            "22/22 [==============================] - 0s 4ms/step - loss: 0.2056 - accuracy: 0.9829 - val_loss: 0.1530 - val_accuracy: 0.9773\n",
            "Epoch 4/100\n",
            "22/22 [==============================] - 0s 4ms/step - loss: 0.1437 - accuracy: 0.9886 - val_loss: 0.1043 - val_accuracy: 0.9716\n",
            "Epoch 5/100\n",
            "22/22 [==============================] - 0s 4ms/step - loss: 0.0999 - accuracy: 0.9943 - val_loss: 0.0735 - val_accuracy: 0.9830\n",
            "Epoch 6/100\n",
            "22/22 [==============================] - 0s 4ms/step - loss: 0.0698 - accuracy: 0.9971 - val_loss: 0.0507 - val_accuracy: 0.9886\n",
            "Epoch 7/100\n",
            "22/22 [==============================] - 0s 4ms/step - loss: 0.0463 - accuracy: 0.9986 - val_loss: 0.0337 - val_accuracy: 1.0000\n",
            "Epoch 8/100\n",
            "22/22 [==============================] - 0s 4ms/step - loss: 0.0290 - accuracy: 1.0000 - val_loss: 0.0205 - val_accuracy: 1.0000\n",
            "Epoch 9/100\n",
            "22/22 [==============================] - 0s 4ms/step - loss: 0.0179 - accuracy: 1.0000 - val_loss: 0.0129 - val_accuracy: 1.0000\n",
            "Epoch 10/100\n",
            "22/22 [==============================] - 0s 4ms/step - loss: 0.0105 - accuracy: 1.0000 - val_loss: 0.0080 - val_accuracy: 1.0000\n",
            "Epoch 11/100\n",
            "22/22 [==============================] - 0s 4ms/step - loss: 0.0062 - accuracy: 1.0000 - val_loss: 0.0049 - val_accuracy: 1.0000\n",
            "Epoch 12/100\n",
            "22/22 [==============================] - 0s 4ms/step - loss: 0.0038 - accuracy: 1.0000 - val_loss: 0.0033 - val_accuracy: 1.0000\n",
            "Epoch 13/100\n",
            "22/22 [==============================] - 0s 4ms/step - loss: 0.0025 - accuracy: 1.0000 - val_loss: 0.0021 - val_accuracy: 1.0000\n",
            "Epoch 14/100\n",
            "22/22 [==============================] - 0s 4ms/step - loss: 0.0018 - accuracy: 1.0000 - val_loss: 0.0014 - val_accuracy: 1.0000\n",
            "Epoch 15/100\n",
            "22/22 [==============================] - 0s 4ms/step - loss: 0.0012 - accuracy: 1.0000 - val_loss: 9.7078e-04 - val_accuracy: 1.0000\n",
            "Epoch 16/100\n",
            "22/22 [==============================] - 0s 4ms/step - loss: 8.3971e-04 - accuracy: 1.0000 - val_loss: 6.6945e-04 - val_accuracy: 1.0000\n",
            "Epoch 17/100\n",
            "22/22 [==============================] - 0s 4ms/step - loss: 5.6295e-04 - accuracy: 1.0000 - val_loss: 4.8665e-04 - val_accuracy: 1.0000\n",
            "Epoch 18/100\n",
            "22/22 [==============================] - 0s 4ms/step - loss: 5.2764e-04 - accuracy: 1.0000 - val_loss: 3.3129e-04 - val_accuracy: 1.0000\n",
            "Epoch 19/100\n",
            "22/22 [==============================] - 0s 4ms/step - loss: 2.9078e-04 - accuracy: 1.0000 - val_loss: 2.3750e-04 - val_accuracy: 1.0000\n",
            "Epoch 20/100\n",
            "22/22 [==============================] - 0s 4ms/step - loss: 2.3035e-04 - accuracy: 1.0000 - val_loss: 1.7193e-04 - val_accuracy: 1.0000\n",
            "Epoch 21/100\n",
            "22/22 [==============================] - 0s 4ms/step - loss: 1.8214e-04 - accuracy: 1.0000 - val_loss: 1.1972e-04 - val_accuracy: 1.0000\n",
            "Epoch 22/100\n",
            "22/22 [==============================] - 0s 4ms/step - loss: 1.2506e-04 - accuracy: 1.0000 - val_loss: 8.8423e-05 - val_accuracy: 1.0000\n",
            "Epoch 23/100\n",
            "22/22 [==============================] - 0s 4ms/step - loss: 1.1205e-04 - accuracy: 1.0000 - val_loss: 6.9826e-05 - val_accuracy: 1.0000\n",
            "Epoch 24/100\n",
            "22/22 [==============================] - 0s 4ms/step - loss: 8.6362e-05 - accuracy: 1.0000 - val_loss: 5.3952e-05 - val_accuracy: 1.0000\n",
            "Epoch 25/100\n",
            "22/22 [==============================] - 0s 4ms/step - loss: 5.6303e-05 - accuracy: 1.0000 - val_loss: 4.0716e-05 - val_accuracy: 1.0000\n",
            "Epoch 26/100\n",
            "22/22 [==============================] - 0s 4ms/step - loss: 4.5980e-05 - accuracy: 1.0000 - val_loss: 2.8750e-05 - val_accuracy: 1.0000\n",
            "Epoch 27/100\n",
            "22/22 [==============================] - 0s 4ms/step - loss: 3.2905e-05 - accuracy: 1.0000 - val_loss: 1.9701e-05 - val_accuracy: 1.0000\n",
            "Epoch 28/100\n",
            "22/22 [==============================] - 0s 4ms/step - loss: 2.2234e-05 - accuracy: 1.0000 - val_loss: 1.2768e-05 - val_accuracy: 1.0000\n",
            "Epoch 29/100\n",
            "22/22 [==============================] - 0s 4ms/step - loss: 1.3939e-05 - accuracy: 1.0000 - val_loss: 8.1306e-06 - val_accuracy: 1.0000\n",
            "Epoch 30/100\n",
            "22/22 [==============================] - 0s 4ms/step - loss: 1.0719e-05 - accuracy: 1.0000 - val_loss: 5.4789e-06 - val_accuracy: 1.0000\n",
            "Epoch 31/100\n",
            "22/22 [==============================] - 0s 5ms/step - loss: 7.4773e-06 - accuracy: 1.0000 - val_loss: 4.2779e-06 - val_accuracy: 1.0000\n",
            "Epoch 32/100\n",
            "22/22 [==============================] - 0s 4ms/step - loss: 5.1797e-06 - accuracy: 1.0000 - val_loss: 2.6337e-06 - val_accuracy: 1.0000\n",
            "Epoch 33/100\n",
            "22/22 [==============================] - 0s 4ms/step - loss: 3.5298e-06 - accuracy: 1.0000 - val_loss: 1.7980e-06 - val_accuracy: 1.0000\n",
            "Epoch 34/100\n",
            "22/22 [==============================] - 0s 4ms/step - loss: 2.2211e-06 - accuracy: 1.0000 - val_loss: 1.0401e-06 - val_accuracy: 1.0000\n",
            "Epoch 35/100\n",
            "22/22 [==============================] - 0s 4ms/step - loss: 1.7591e-06 - accuracy: 1.0000 - val_loss: 7.5101e-07 - val_accuracy: 1.0000\n",
            "Epoch 36/100\n",
            "22/22 [==============================] - 0s 4ms/step - loss: 1.1021e-06 - accuracy: 1.0000 - val_loss: 4.7513e-07 - val_accuracy: 1.0000\n",
            "Epoch 37/100\n",
            "22/22 [==============================] - 0s 4ms/step - loss: 7.2319e-07 - accuracy: 1.0000 - val_loss: 3.5594e-07 - val_accuracy: 1.0000\n",
            "Epoch 38/100\n",
            "22/22 [==============================] - 0s 4ms/step - loss: 4.6736e-07 - accuracy: 1.0000 - val_loss: 2.1184e-07 - val_accuracy: 1.0000\n",
            "Epoch 39/100\n",
            "22/22 [==============================] - 0s 4ms/step - loss: 3.4195e-07 - accuracy: 1.0000 - val_loss: 1.1888e-07 - val_accuracy: 1.0000\n",
            "Epoch 40/100\n",
            "22/22 [==============================] - 0s 4ms/step - loss: 1.8590e-07 - accuracy: 1.0000 - val_loss: 7.8493e-08 - val_accuracy: 1.0000\n",
            "Epoch 41/100\n",
            "22/22 [==============================] - 0s 4ms/step - loss: 1.3058e-07 - accuracy: 1.0000 - val_loss: 5.1873e-08 - val_accuracy: 1.0000\n",
            "Epoch 42/100\n",
            "22/22 [==============================] - 0s 4ms/step - loss: 8.4855e-08 - accuracy: 1.0000 - val_loss: 3.3142e-08 - val_accuracy: 1.0000\n",
            "Epoch 43/100\n",
            "22/22 [==============================] - 0s 4ms/step - loss: 6.8080e-08 - accuracy: 1.0000 - val_loss: 2.2582e-08 - val_accuracy: 1.0000\n",
            "Epoch 44/100\n",
            "22/22 [==============================] - 0s 4ms/step - loss: 4.0436e-08 - accuracy: 1.0000 - val_loss: 1.6466e-08 - val_accuracy: 1.0000\n",
            "Epoch 45/100\n",
            "22/22 [==============================] - 0s 4ms/step - loss: 3.2684e-08 - accuracy: 1.0000 - val_loss: 1.2578e-08 - val_accuracy: 1.0000\n",
            "Epoch 46/100\n",
            "22/22 [==============================] - 0s 4ms/step - loss: 2.3902e-08 - accuracy: 1.0000 - val_loss: 9.5928e-09 - val_accuracy: 1.0000\n",
            "Epoch 47/100\n",
            "22/22 [==============================] - 0s 4ms/step - loss: 1.7395e-08 - accuracy: 1.0000 - val_loss: 7.1558e-09 - val_accuracy: 1.0000\n",
            "Epoch 48/100\n",
            "22/22 [==============================] - 0s 4ms/step - loss: 1.6446e-08 - accuracy: 1.0000 - val_loss: 5.8720e-09 - val_accuracy: 1.0000\n",
            "Epoch 49/100\n",
            "22/22 [==============================] - 0s 5ms/step - loss: 1.2086e-08 - accuracy: 1.0000 - val_loss: 4.8615e-09 - val_accuracy: 1.0000\n",
            "Epoch 50/100\n",
            "22/22 [==============================] - 0s 4ms/step - loss: 1.0010e-08 - accuracy: 1.0000 - val_loss: 3.9920e-09 - val_accuracy: 1.0000\n",
            "Epoch 51/100\n",
            "22/22 [==============================] - 0s 5ms/step - loss: 8.3344e-09 - accuracy: 1.0000 - val_loss: 3.4827e-09 - val_accuracy: 1.0000\n",
            "Epoch 52/100\n",
            "22/22 [==============================] - 0s 4ms/step - loss: 7.4698e-09 - accuracy: 1.0000 - val_loss: 3.0198e-09 - val_accuracy: 1.0000\n",
            "Epoch 53/100\n",
            "22/22 [==============================] - 0s 4ms/step - loss: 6.4505e-09 - accuracy: 1.0000 - val_loss: 2.6529e-09 - val_accuracy: 1.0000\n",
            "Epoch 54/100\n",
            "22/22 [==============================] - 0s 5ms/step - loss: 5.6060e-09 - accuracy: 1.0000 - val_loss: 2.3462e-09 - val_accuracy: 1.0000\n",
            "Epoch 55/100\n",
            "22/22 [==============================] - 0s 4ms/step - loss: 5.1037e-09 - accuracy: 1.0000 - val_loss: 2.1167e-09 - val_accuracy: 1.0000\n",
            "Epoch 56/100\n",
            "22/22 [==============================] - 0s 4ms/step - loss: 4.7164e-09 - accuracy: 1.0000 - val_loss: 1.9153e-09 - val_accuracy: 1.0000\n",
            "Epoch 57/100\n",
            "22/22 [==============================] - 0s 4ms/step - loss: 4.0860e-09 - accuracy: 1.0000 - val_loss: 1.7584e-09 - val_accuracy: 1.0000\n",
            "Epoch 58/100\n",
            "22/22 [==============================] - 0s 5ms/step - loss: 3.9531e-09 - accuracy: 1.0000 - val_loss: 1.5973e-09 - val_accuracy: 1.0000\n",
            "Epoch 59/100\n",
            "22/22 [==============================] - 0s 4ms/step - loss: 3.5253e-09 - accuracy: 1.0000 - val_loss: 1.4738e-09 - val_accuracy: 1.0000\n",
            "Epoch 60/100\n",
            "22/22 [==============================] - 0s 4ms/step - loss: 3.2956e-09 - accuracy: 1.0000 - val_loss: 1.3839e-09 - val_accuracy: 1.0000\n",
            "Epoch 61/100\n",
            "22/22 [==============================] - 0s 4ms/step - loss: 2.9960e-09 - accuracy: 1.0000 - val_loss: 1.2676e-09 - val_accuracy: 1.0000\n",
            "Epoch 62/100\n",
            "22/22 [==============================] - 0s 4ms/step - loss: 2.8890e-09 - accuracy: 1.0000 - val_loss: 1.1851e-09 - val_accuracy: 1.0000\n",
            "Epoch 63/100\n",
            "22/22 [==============================] - 0s 4ms/step - loss: 2.5806e-09 - accuracy: 1.0000 - val_loss: 1.1267e-09 - val_accuracy: 1.0000\n",
            "Epoch 64/100\n",
            "22/22 [==============================] - 0s 4ms/step - loss: 2.5705e-09 - accuracy: 1.0000 - val_loss: 1.0479e-09 - val_accuracy: 1.0000\n",
            "Epoch 65/100\n",
            "22/22 [==============================] - 0s 4ms/step - loss: 2.3408e-09 - accuracy: 1.0000 - val_loss: 9.9947e-10 - val_accuracy: 1.0000\n",
            "Epoch 66/100\n",
            "22/22 [==============================] - 0s 4ms/step - loss: 2.2394e-09 - accuracy: 1.0000 - val_loss: 9.4124e-10 - val_accuracy: 1.0000\n",
            "Epoch 67/100\n",
            "22/22 [==============================] - 0s 4ms/step - loss: 2.0718e-09 - accuracy: 1.0000 - val_loss: 8.9592e-10 - val_accuracy: 1.0000\n",
            "Epoch 68/100\n",
            "22/22 [==============================] - 0s 4ms/step - loss: 2.0008e-09 - accuracy: 1.0000 - val_loss: 8.5714e-10 - val_accuracy: 1.0000\n",
            "Epoch 69/100\n",
            "22/22 [==============================] - 0s 4ms/step - loss: 1.8800e-09 - accuracy: 1.0000 - val_loss: 8.1947e-10 - val_accuracy: 1.0000\n",
            "Epoch 70/100\n",
            "22/22 [==============================] - 0s 5ms/step - loss: 1.8604e-09 - accuracy: 1.0000 - val_loss: 7.7969e-10 - val_accuracy: 1.0000\n",
            "Epoch 71/100\n",
            "22/22 [==============================] - 0s 4ms/step - loss: 1.7414e-09 - accuracy: 1.0000 - val_loss: 7.4676e-10 - val_accuracy: 1.0000\n",
            "Epoch 72/100\n",
            "22/22 [==============================] - 0s 4ms/step - loss: 1.6695e-09 - accuracy: 1.0000 - val_loss: 7.1796e-10 - val_accuracy: 1.0000\n",
            "Epoch 73/100\n",
            "22/22 [==============================] - 0s 4ms/step - loss: 1.6606e-09 - accuracy: 1.0000 - val_loss: 6.8416e-10 - val_accuracy: 1.0000\n",
            "Epoch 74/100\n",
            "22/22 [==============================] - 0s 4ms/step - loss: 1.5673e-09 - accuracy: 1.0000 - val_loss: 6.5663e-10 - val_accuracy: 1.0000\n",
            "Epoch 75/100\n",
            "22/22 [==============================] - 0s 4ms/step - loss: 1.4968e-09 - accuracy: 1.0000 - val_loss: 6.3209e-10 - val_accuracy: 1.0000\n",
            "Epoch 76/100\n",
            "22/22 [==============================] - 0s 4ms/step - loss: 1.4390e-09 - accuracy: 1.0000 - val_loss: 6.0810e-10 - val_accuracy: 1.0000\n",
            "Epoch 77/100\n",
            "22/22 [==============================] - 0s 4ms/step - loss: 1.4240e-09 - accuracy: 1.0000 - val_loss: 5.8819e-10 - val_accuracy: 1.0000\n",
            "Epoch 78/100\n",
            "22/22 [==============================] - 0s 4ms/step - loss: 1.3453e-09 - accuracy: 1.0000 - val_loss: 5.7068e-10 - val_accuracy: 1.0000\n",
            "Epoch 79/100\n",
            "22/22 [==============================] - 0s 5ms/step - loss: 1.2621e-09 - accuracy: 1.0000 - val_loss: 5.5565e-10 - val_accuracy: 1.0000\n",
            "Epoch 80/100\n",
            "22/22 [==============================] - 0s 4ms/step - loss: 1.2851e-09 - accuracy: 1.0000 - val_loss: 5.3925e-10 - val_accuracy: 1.0000\n",
            "Epoch 81/100\n",
            "22/22 [==============================] - 0s 4ms/step - loss: 1.2446e-09 - accuracy: 1.0000 - val_loss: 5.2284e-10 - val_accuracy: 1.0000\n",
            "Epoch 82/100\n",
            "22/22 [==============================] - 0s 4ms/step - loss: 1.2156e-09 - accuracy: 1.0000 - val_loss: 5.0660e-10 - val_accuracy: 1.0000\n",
            "Epoch 83/100\n",
            "22/22 [==============================] - 0s 4ms/step - loss: 1.1567e-09 - accuracy: 1.0000 - val_loss: 4.9651e-10 - val_accuracy: 1.0000\n",
            "Epoch 84/100\n",
            "22/22 [==============================] - 0s 4ms/step - loss: 1.1670e-09 - accuracy: 1.0000 - val_loss: 4.8617e-10 - val_accuracy: 1.0000\n",
            "Epoch 85/100\n",
            "22/22 [==============================] - 0s 5ms/step - loss: 1.1828e-09 - accuracy: 1.0000 - val_loss: 4.7533e-10 - val_accuracy: 1.0000\n",
            "Epoch 86/100\n",
            "22/22 [==============================] - 0s 4ms/step - loss: 1.0935e-09 - accuracy: 1.0000 - val_loss: 4.6515e-10 - val_accuracy: 1.0000\n",
            "Epoch 87/100\n",
            "22/22 [==============================] - 0s 4ms/step - loss: 1.0835e-09 - accuracy: 1.0000 - val_loss: 4.5499e-10 - val_accuracy: 1.0000\n",
            "Epoch 88/100\n",
            "22/22 [==============================] - 0s 4ms/step - loss: 1.0591e-09 - accuracy: 1.0000 - val_loss: 4.4508e-10 - val_accuracy: 1.0000\n",
            "Epoch 89/100\n",
            "22/22 [==============================] - 0s 4ms/step - loss: 1.1023e-09 - accuracy: 1.0000 - val_loss: 4.3175e-10 - val_accuracy: 1.0000\n",
            "Epoch 90/100\n",
            "22/22 [==============================] - 0s 5ms/step - loss: 9.9329e-10 - accuracy: 1.0000 - val_loss: 4.2085e-10 - val_accuracy: 1.0000\n",
            "Epoch 91/100\n",
            "22/22 [==============================] - 0s 5ms/step - loss: 9.7136e-10 - accuracy: 1.0000 - val_loss: 4.1175e-10 - val_accuracy: 1.0000\n",
            "Epoch 92/100\n",
            "22/22 [==============================] - 0s 4ms/step - loss: 9.4715e-10 - accuracy: 1.0000 - val_loss: 4.0292e-10 - val_accuracy: 1.0000\n",
            "Epoch 93/100\n",
            "22/22 [==============================] - 0s 4ms/step - loss: 9.5637e-10 - accuracy: 1.0000 - val_loss: 3.9375e-10 - val_accuracy: 1.0000\n",
            "Epoch 94/100\n",
            "22/22 [==============================] - 0s 4ms/step - loss: 9.2796e-10 - accuracy: 1.0000 - val_loss: 3.8487e-10 - val_accuracy: 1.0000\n",
            "Epoch 95/100\n",
            "22/22 [==============================] - 0s 4ms/step - loss: 9.5787e-10 - accuracy: 1.0000 - val_loss: 3.7797e-10 - val_accuracy: 1.0000\n",
            "Epoch 96/100\n",
            "22/22 [==============================] - 0s 4ms/step - loss: 8.8094e-10 - accuracy: 1.0000 - val_loss: 3.6940e-10 - val_accuracy: 1.0000\n",
            "Epoch 97/100\n",
            "22/22 [==============================] - 0s 4ms/step - loss: 8.6178e-10 - accuracy: 1.0000 - val_loss: 3.6265e-10 - val_accuracy: 1.0000\n",
            "Epoch 98/100\n",
            "22/22 [==============================] - 0s 4ms/step - loss: 8.5211e-10 - accuracy: 1.0000 - val_loss: 3.5433e-10 - val_accuracy: 1.0000\n",
            "Epoch 99/100\n",
            "22/22 [==============================] - 0s 4ms/step - loss: 8.2929e-10 - accuracy: 1.0000 - val_loss: 3.4862e-10 - val_accuracy: 1.0000\n",
            "Epoch 100/100\n",
            "22/22 [==============================] - 0s 5ms/step - loss: 8.6531e-10 - accuracy: 1.0000 - val_loss: 3.4199e-10 - val_accuracy: 1.0000\n"
          ],
          "name": "stdout"
        }
      ]
    },
    {
      "cell_type": "markdown",
      "metadata": {
        "id": "s6KaBCMtTAPC"
      },
      "source": [
        "### **D. Model Evaluation:**"
      ]
    },
    {
      "cell_type": "code",
      "metadata": {
        "colab": {
          "base_uri": "https://localhost:8080/"
        },
        "id": "nHg0smrCTSKV",
        "outputId": "e7a555ef-ae0c-4546-9066-feb635060694"
      },
      "source": [
        "model.evaluate(X_test, y_test)"
      ],
      "execution_count": null,
      "outputs": [
        {
          "output_type": "stream",
          "text": [
            "7/7 [==============================] - 0s 2ms/step - loss: 1.2503e-08 - accuracy: 1.0000\n"
          ],
          "name": "stdout"
        },
        {
          "output_type": "execute_result",
          "data": {
            "text/plain": [
              "[1.2503068802516282e-08, 1.0]"
            ]
          },
          "metadata": {
            "tags": []
          },
          "execution_count": 40
        }
      ]
    },
    {
      "cell_type": "markdown",
      "metadata": {
        "id": "LsXvaZhRUNaF"
      },
      "source": [
        "**Model Accuracy Graph**"
      ]
    },
    {
      "cell_type": "code",
      "metadata": {
        "colab": {
          "base_uri": "https://localhost:8080/",
          "height": 295
        },
        "id": "eTcyVsRCUJhb",
        "outputId": "bd8d73e0-0eb4-44c5-c490-b38b5c665f95"
      },
      "source": [
        "plt.plot(history.history['accuracy'])\n",
        "plt.plot(history.history['val_accuracy'])\n",
        "plt.title('Model Accuracy')\n",
        "plt.ylabel('accuracy')\n",
        "plt.xlabel('epoch')\n",
        "plt.legend(['Train', 'Validation'])\n",
        "plt.show()"
      ],
      "execution_count": null,
      "outputs": [
        {
          "output_type": "display_data",
          "data": {
            "image/png": "[encoded data removed]",
            "text/plain": [
              "<Figure size 432x288 with 1 Axes>"
            ]
          },
          "metadata": {
            "tags": [],
            "needs_background": "light"
          }
        }
      ]
    },
    {
      "cell_type": "markdown",
      "metadata": {
        "id": "EUcOFJB2UXPT"
      },
      "source": [
        "**Model Loss Graph**"
      ]
    },
    {
      "cell_type": "code",
      "metadata": {
        "colab": {
          "base_uri": "https://localhost:8080/",
          "height": 295
        },
        "id": "8RYr_8tOUWNp",
        "outputId": "8a696f81-b3d9-470e-fdd8-7d8b40269b0b"
      },
      "source": [
        "plt.plot(history.history['loss'])\n",
        "plt.plot(history.history['val_loss'])\n",
        "plt.title('Model Loss')\n",
        "plt.ylabel('loss')\n",
        "plt.xlabel('epoch')\n",
        "plt.legend(['Train', 'Validation'])\n",
        "plt.show()"
      ],
      "execution_count": null,
      "outputs": [
        {
          "output_type": "display_data",
          "data": {
            "image/png": "[encoded data removed]",
            "text/plain": [
              "<Figure size 432x288 with 1 Axes>"
            ]
          },
          "metadata": {
            "tags": [],
            "needs_background": "light"
          }
        }
      ]
    },
    {
      "cell_type": "markdown",
      "metadata": {
        "id": "URnkrt1xI4DO"
      },
      "source": [
        "## **Conclusion:**\r\n",
        "Training accuracy: 1.0\r\n",
        "Testing accuracy: 1.0"
      ]
    }
  ]
}